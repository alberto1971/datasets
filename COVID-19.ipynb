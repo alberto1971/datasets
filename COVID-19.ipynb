{
 "cells": [
  {
   "cell_type": "code",
   "execution_count": 54,
   "metadata": {},
   "outputs": [],
   "source": [
    "import pandas as pd\n",
    "import matplotlib.pyplot as plt\n",
    "import seaborn as sns\n",
    "import numpy as np\n",
    "from datetime import datetime, timedelta\n",
    "sns.set()"
   ]
  },
  {
   "cell_type": "code",
   "execution_count": 55,
   "metadata": {},
   "outputs": [],
   "source": [
    "#https://www.ecdc.europa.eu/en/publications-data/download-todays-data-geographic-distribution-covid-19-cases-worldwide\n",
    "url='https://opendata.ecdc.europa.eu/covid19/casedistribution/csv'\n",
    "dateparse = lambda dates: [pd.datetime.strptime(d, '%d/%m/%Y') for d in dates]\n",
    "\n",
    "data=pd.read_csv(url,sep=',',encoding='ISO-8859–1',parse_dates=['dateRep'],date_parser=dateparse)"
   ]
  },
  {
   "cell_type": "code",
   "execution_count": 56,
   "metadata": {},
   "outputs": [],
   "source": [
    "#data.DateRep=pd.to_datetime(data['dateRep'])"
   ]
  },
  {
   "cell_type": "code",
   "execution_count": 57,
   "metadata": {},
   "outputs": [],
   "source": [
    "data=data.drop(['day','month','year','geoId','countryterritoryCode'], axis=1)"
   ]
  },
  {
   "cell_type": "code",
   "execution_count": 58,
   "metadata": {},
   "outputs": [],
   "source": [
    "data=data.rename(columns={'countriesAndTerritories':'country','cases':'new_cases','deaths':'new_deaths','dateRep':'date','popData2018':'Pop'})\n",
    "data.set_index('country',inplace = True)"
   ]
  },
  {
   "cell_type": "code",
   "execution_count": 59,
   "metadata": {},
   "outputs": [
    {
     "data": {
      "text/html": [
       "<div>\n",
       "<style scoped>\n",
       "    .dataframe tbody tr th:only-of-type {\n",
       "        vertical-align: middle;\n",
       "    }\n",
       "\n",
       "    .dataframe tbody tr th {\n",
       "        vertical-align: top;\n",
       "    }\n",
       "\n",
       "    .dataframe thead th {\n",
       "        text-align: right;\n",
       "    }\n",
       "</style>\n",
       "<table border=\"1\" class=\"dataframe\">\n",
       "  <thead>\n",
       "    <tr style=\"text-align: right;\">\n",
       "      <th></th>\n",
       "      <th>date</th>\n",
       "      <th>new_cases</th>\n",
       "      <th>new_deaths</th>\n",
       "      <th>Pop</th>\n",
       "    </tr>\n",
       "    <tr>\n",
       "      <th>country</th>\n",
       "      <th></th>\n",
       "      <th></th>\n",
       "      <th></th>\n",
       "      <th></th>\n",
       "    </tr>\n",
       "  </thead>\n",
       "  <tbody>\n",
       "    <tr>\n",
       "      <td>Afghanistan</td>\n",
       "      <td>2020-04-13</td>\n",
       "      <td>52</td>\n",
       "      <td>0</td>\n",
       "      <td>37172386</td>\n",
       "    </tr>\n",
       "    <tr>\n",
       "      <td>Afghanistan</td>\n",
       "      <td>2020-04-12</td>\n",
       "      <td>34</td>\n",
       "      <td>3</td>\n",
       "      <td>37172386</td>\n",
       "    </tr>\n",
       "    <tr>\n",
       "      <td>Afghanistan</td>\n",
       "      <td>2020-04-11</td>\n",
       "      <td>37</td>\n",
       "      <td>0</td>\n",
       "      <td>37172386</td>\n",
       "    </tr>\n",
       "    <tr>\n",
       "      <td>Afghanistan</td>\n",
       "      <td>2020-04-10</td>\n",
       "      <td>61</td>\n",
       "      <td>1</td>\n",
       "      <td>37172386</td>\n",
       "    </tr>\n",
       "    <tr>\n",
       "      <td>Afghanistan</td>\n",
       "      <td>2020-04-09</td>\n",
       "      <td>56</td>\n",
       "      <td>3</td>\n",
       "      <td>37172386</td>\n",
       "    </tr>\n",
       "  </tbody>\n",
       "</table>\n",
       "</div>"
      ],
      "text/plain": [
       "                  date  new_cases  new_deaths      Pop\n",
       "country                                               \n",
       "Afghanistan 2020-04-13         52           0 37172386\n",
       "Afghanistan 2020-04-12         34           3 37172386\n",
       "Afghanistan 2020-04-11         37           0 37172386\n",
       "Afghanistan 2020-04-10         61           1 37172386\n",
       "Afghanistan 2020-04-09         56           3 37172386"
      ]
     },
     "execution_count": 59,
     "metadata": {},
     "output_type": "execute_result"
    }
   ],
   "source": [
    "data.head()"
   ]
  },
  {
   "cell_type": "code",
   "execution_count": 60,
   "metadata": {},
   "outputs": [
    {
     "name": "stdout",
     "output_type": "stream",
     "text": [
      "Index(['Afghanistan', 'Albania', 'Algeria', 'Andorra', 'Angola', 'Anguilla',\n",
      "       'Antigua_and_Barbuda', 'Argentina', 'Armenia', 'Aruba',\n",
      "       ...\n",
      "       'United_Republic_of_Tanzania', 'United_States_of_America',\n",
      "       'United_States_Virgin_Islands', 'Uruguay', 'Uzbekistan', 'Venezuela',\n",
      "       'Vietnam', 'Yemen', 'Zambia', 'Zimbabwe'],\n",
      "      dtype='object', name='country', length=206)\n"
     ]
    }
   ],
   "source": [
    "print(data.index.unique())"
   ]
  },
  {
   "cell_type": "code",
   "execution_count": 61,
   "metadata": {},
   "outputs": [
    {
     "name": "stdout",
     "output_type": "stream",
     "text": [
      "A fecha 2020-04-13 en el mundo el número total de infectados es 1807308 y el número total de muertos es 113513\n"
     ]
    }
   ],
   "source": [
    "print(\"A fecha \" +str(data.date[0])[:10]+\" en el mundo el número total de infectados es \"+ str (data.new_cases.sum()) + \" y el número total de muertos es \" + str(data.new_deaths.sum())) "
   ]
  },
  {
   "cell_type": "code",
   "execution_count": 62,
   "metadata": {},
   "outputs": [
    {
     "data": {
      "text/plain": [
       "7527438447.0"
      ]
     },
     "execution_count": 62,
     "metadata": {},
     "output_type": "execute_result"
    }
   ],
   "source": [
    "data['Pop'][data['date']==data.date[0]].sum()"
   ]
  },
  {
   "cell_type": "code",
   "execution_count": 63,
   "metadata": {},
   "outputs": [],
   "source": [
    "data_tot=data[['new_cases','new_deaths']].groupby('country').sum()\n",
    "data_tot=data_tot.rename(columns={'new_cases':'total_cases','new_deaths':'total_deaths'})\n",
    "data_tot['CFR']=data_tot['total_deaths']/data_tot['total_cases']*100\n",
    "data_tot['CFR']=data_tot['CFR'].round(1)"
   ]
  },
  {
   "cell_type": "code",
   "execution_count": 64,
   "metadata": {},
   "outputs": [
    {
     "data": {
      "text/html": [
       "<div>\n",
       "<style scoped>\n",
       "    .dataframe tbody tr th:only-of-type {\n",
       "        vertical-align: middle;\n",
       "    }\n",
       "\n",
       "    .dataframe tbody tr th {\n",
       "        vertical-align: top;\n",
       "    }\n",
       "\n",
       "    .dataframe thead th {\n",
       "        text-align: right;\n",
       "    }\n",
       "</style>\n",
       "<table border=\"1\" class=\"dataframe\">\n",
       "  <thead>\n",
       "    <tr style=\"text-align: right;\">\n",
       "      <th></th>\n",
       "      <th>date</th>\n",
       "      <th>new_cases</th>\n",
       "      <th>new_deaths</th>\n",
       "      <th>Pop</th>\n",
       "      <th>total_cases</th>\n",
       "      <th>total_deaths</th>\n",
       "      <th>CFR</th>\n",
       "      <th>DpM</th>\n",
       "    </tr>\n",
       "    <tr>\n",
       "      <th>country</th>\n",
       "      <th></th>\n",
       "      <th></th>\n",
       "      <th></th>\n",
       "      <th></th>\n",
       "      <th></th>\n",
       "      <th></th>\n",
       "      <th></th>\n",
       "      <th></th>\n",
       "    </tr>\n",
       "  </thead>\n",
       "  <tbody>\n",
       "    <tr>\n",
       "      <td>United_States_of_America</td>\n",
       "      <td>2020-04-13</td>\n",
       "      <td>27620</td>\n",
       "      <td>1500</td>\n",
       "      <td>327167434</td>\n",
       "      <td>557571</td>\n",
       "      <td>22108</td>\n",
       "      <td>4</td>\n",
       "      <td>68</td>\n",
       "    </tr>\n",
       "    <tr>\n",
       "      <td>Spain</td>\n",
       "      <td>2020-04-13</td>\n",
       "      <td>4167</td>\n",
       "      <td>619</td>\n",
       "      <td>46723749</td>\n",
       "      <td>166019</td>\n",
       "      <td>16972</td>\n",
       "      <td>10</td>\n",
       "      <td>363</td>\n",
       "    </tr>\n",
       "    <tr>\n",
       "      <td>Italy</td>\n",
       "      <td>2020-04-13</td>\n",
       "      <td>4092</td>\n",
       "      <td>431</td>\n",
       "      <td>60431283</td>\n",
       "      <td>156363</td>\n",
       "      <td>19901</td>\n",
       "      <td>13</td>\n",
       "      <td>329</td>\n",
       "    </tr>\n",
       "    <tr>\n",
       "      <td>Germany</td>\n",
       "      <td>2020-04-13</td>\n",
       "      <td>2537</td>\n",
       "      <td>126</td>\n",
       "      <td>82927922</td>\n",
       "      <td>123016</td>\n",
       "      <td>2799</td>\n",
       "      <td>2</td>\n",
       "      <td>34</td>\n",
       "    </tr>\n",
       "    <tr>\n",
       "      <td>France</td>\n",
       "      <td>2020-04-13</td>\n",
       "      <td>1613</td>\n",
       "      <td>561</td>\n",
       "      <td>66987244</td>\n",
       "      <td>95403</td>\n",
       "      <td>14393</td>\n",
       "      <td>15</td>\n",
       "      <td>215</td>\n",
       "    </tr>\n",
       "    <tr>\n",
       "      <td>United_Kingdom</td>\n",
       "      <td>2020-04-13</td>\n",
       "      <td>5288</td>\n",
       "      <td>737</td>\n",
       "      <td>66488991</td>\n",
       "      <td>84279</td>\n",
       "      <td>10612</td>\n",
       "      <td>13</td>\n",
       "      <td>160</td>\n",
       "    </tr>\n",
       "    <tr>\n",
       "      <td>China</td>\n",
       "      <td>2020-04-13</td>\n",
       "      <td>112</td>\n",
       "      <td>2</td>\n",
       "      <td>1392730000</td>\n",
       "      <td>83209</td>\n",
       "      <td>3345</td>\n",
       "      <td>4</td>\n",
       "      <td>2</td>\n",
       "    </tr>\n",
       "    <tr>\n",
       "      <td>Iran</td>\n",
       "      <td>2020-04-13</td>\n",
       "      <td>1657</td>\n",
       "      <td>117</td>\n",
       "      <td>81800269</td>\n",
       "      <td>71686</td>\n",
       "      <td>4474</td>\n",
       "      <td>6</td>\n",
       "      <td>55</td>\n",
       "    </tr>\n",
       "    <tr>\n",
       "      <td>Turkey</td>\n",
       "      <td>2020-04-13</td>\n",
       "      <td>4789</td>\n",
       "      <td>97</td>\n",
       "      <td>82319724</td>\n",
       "      <td>56956</td>\n",
       "      <td>1198</td>\n",
       "      <td>2</td>\n",
       "      <td>15</td>\n",
       "    </tr>\n",
       "    <tr>\n",
       "      <td>Belgium</td>\n",
       "      <td>2020-04-13</td>\n",
       "      <td>1629</td>\n",
       "      <td>254</td>\n",
       "      <td>11422068</td>\n",
       "      <td>29647</td>\n",
       "      <td>3600</td>\n",
       "      <td>12</td>\n",
       "      <td>315</td>\n",
       "    </tr>\n",
       "  </tbody>\n",
       "</table>\n",
       "</div>"
      ],
      "text/plain": [
       "                               date  new_cases  new_deaths        Pop  \\\n",
       "country                                                                 \n",
       "United_States_of_America 2020-04-13      27620        1500  327167434   \n",
       "Spain                    2020-04-13       4167         619   46723749   \n",
       "Italy                    2020-04-13       4092         431   60431283   \n",
       "Germany                  2020-04-13       2537         126   82927922   \n",
       "France                   2020-04-13       1613         561   66987244   \n",
       "United_Kingdom           2020-04-13       5288         737   66488991   \n",
       "China                    2020-04-13        112           2 1392730000   \n",
       "Iran                     2020-04-13       1657         117   81800269   \n",
       "Turkey                   2020-04-13       4789          97   82319724   \n",
       "Belgium                  2020-04-13       1629         254   11422068   \n",
       "\n",
       "                          total_cases  total_deaths  CFR  DpM  \n",
       "country                                                        \n",
       "United_States_of_America       557571         22108    4   68  \n",
       "Spain                          166019         16972   10  363  \n",
       "Italy                          156363         19901   13  329  \n",
       "Germany                        123016          2799    2   34  \n",
       "France                          95403         14393   15  215  \n",
       "United_Kingdom                  84279         10612   13  160  \n",
       "China                           83209          3345    4    2  \n",
       "Iran                            71686          4474    6   55  \n",
       "Turkey                          56956          1198    2   15  \n",
       "Belgium                         29647          3600   12  315  "
      ]
     },
     "execution_count": 64,
     "metadata": {},
     "output_type": "execute_result"
    }
   ],
   "source": [
    "#pd.options.display.float_format = '{:.0f}'.format\n",
    "last_data=data[data['date']==data.date[0]]\n",
    "last_data=last_data.join(data_tot,'country')\n",
    "last_data['DpM']=last_data['total_deaths']/last_data['Pop']*(10**6)\n",
    "last_data.sort_values('total_cases',ascending=False).head(10)"
   ]
  },
  {
   "cell_type": "code",
   "execution_count": 65,
   "metadata": {},
   "outputs": [
    {
     "data": {
      "text/html": [
       "<div>\n",
       "<style scoped>\n",
       "    .dataframe tbody tr th:only-of-type {\n",
       "        vertical-align: middle;\n",
       "    }\n",
       "\n",
       "    .dataframe tbody tr th {\n",
       "        vertical-align: top;\n",
       "    }\n",
       "\n",
       "    .dataframe thead th {\n",
       "        text-align: right;\n",
       "    }\n",
       "</style>\n",
       "<table border=\"1\" class=\"dataframe\">\n",
       "  <thead>\n",
       "    <tr style=\"text-align: right;\">\n",
       "      <th></th>\n",
       "      <th>date</th>\n",
       "      <th>new_cases</th>\n",
       "      <th>new_deaths</th>\n",
       "      <th>Pop</th>\n",
       "    </tr>\n",
       "    <tr>\n",
       "      <th>country</th>\n",
       "      <th></th>\n",
       "      <th></th>\n",
       "      <th></th>\n",
       "      <th></th>\n",
       "    </tr>\n",
       "  </thead>\n",
       "  <tbody>\n",
       "    <tr>\n",
       "      <td>Spain</td>\n",
       "      <td>2020-04-13</td>\n",
       "      <td>4167</td>\n",
       "      <td>619</td>\n",
       "      <td>46723749</td>\n",
       "    </tr>\n",
       "    <tr>\n",
       "      <td>Spain</td>\n",
       "      <td>2020-04-12</td>\n",
       "      <td>4830</td>\n",
       "      <td>510</td>\n",
       "      <td>46723749</td>\n",
       "    </tr>\n",
       "    <tr>\n",
       "      <td>Spain</td>\n",
       "      <td>2020-04-11</td>\n",
       "      <td>4576</td>\n",
       "      <td>605</td>\n",
       "      <td>46723749</td>\n",
       "    </tr>\n",
       "    <tr>\n",
       "      <td>Spain</td>\n",
       "      <td>2020-04-10</td>\n",
       "      <td>5756</td>\n",
       "      <td>683</td>\n",
       "      <td>46723749</td>\n",
       "    </tr>\n",
       "    <tr>\n",
       "      <td>Spain</td>\n",
       "      <td>2020-04-09</td>\n",
       "      <td>6180</td>\n",
       "      <td>757</td>\n",
       "      <td>46723749</td>\n",
       "    </tr>\n",
       "    <tr>\n",
       "      <td>Spain</td>\n",
       "      <td>2020-04-08</td>\n",
       "      <td>5478</td>\n",
       "      <td>743</td>\n",
       "      <td>46723749</td>\n",
       "    </tr>\n",
       "    <tr>\n",
       "      <td>Spain</td>\n",
       "      <td>2020-04-07</td>\n",
       "      <td>4273</td>\n",
       "      <td>637</td>\n",
       "      <td>46723749</td>\n",
       "    </tr>\n",
       "    <tr>\n",
       "      <td>Spain</td>\n",
       "      <td>2020-04-06</td>\n",
       "      <td>6023</td>\n",
       "      <td>674</td>\n",
       "      <td>46723749</td>\n",
       "    </tr>\n",
       "    <tr>\n",
       "      <td>Spain</td>\n",
       "      <td>2020-04-05</td>\n",
       "      <td>7026</td>\n",
       "      <td>809</td>\n",
       "      <td>46723749</td>\n",
       "    </tr>\n",
       "    <tr>\n",
       "      <td>Spain</td>\n",
       "      <td>2020-04-04</td>\n",
       "      <td>7472</td>\n",
       "      <td>932</td>\n",
       "      <td>46723749</td>\n",
       "    </tr>\n",
       "  </tbody>\n",
       "</table>\n",
       "</div>"
      ],
      "text/plain": [
       "              date  new_cases  new_deaths      Pop\n",
       "country                                           \n",
       "Spain   2020-04-13       4167         619 46723749\n",
       "Spain   2020-04-12       4830         510 46723749\n",
       "Spain   2020-04-11       4576         605 46723749\n",
       "Spain   2020-04-10       5756         683 46723749\n",
       "Spain   2020-04-09       6180         757 46723749\n",
       "Spain   2020-04-08       5478         743 46723749\n",
       "Spain   2020-04-07       4273         637 46723749\n",
       "Spain   2020-04-06       6023         674 46723749\n",
       "Spain   2020-04-05       7026         809 46723749\n",
       "Spain   2020-04-04       7472         932 46723749"
      ]
     },
     "execution_count": 65,
     "metadata": {},
     "output_type": "execute_result"
    }
   ],
   "source": [
    "country='Spain'\n",
    "d=60\n",
    "data.loc[country].iloc[:10]"
   ]
  },
  {
   "cell_type": "code",
   "execution_count": 66,
   "metadata": {},
   "outputs": [
    {
     "data": {
      "image/png": "[encoded data removed]",
      "text/plain": [
       "<Figure size 1080x576 with 1 Axes>"
      ]
     },
     "metadata": {},
     "output_type": "display_data"
    }
   ],
   "source": [
    "plt.figure(figsize=(15,8))\n",
    "plt.bar(data.loc[country].date[:d],data.loc[country].new_cases[:d])\n",
    "plt.tick_params('x',labelrotation=270, labelsize=10)\n",
    "plt.title(str(country +\":  \"+'new cases'), size=20)\n",
    "plt.show()"
   ]
  },
  {
   "cell_type": "code",
   "execution_count": 67,
   "metadata": {},
   "outputs": [
    {
     "data": {
      "image/png": "[encoded data removed]",
      "text/plain": [
       "<Figure size 1080x576 with 1 Axes>"
      ]
     },
     "metadata": {},
     "output_type": "display_data"
    }
   ],
   "source": [
    "plt.figure(figsize=(15,8))\n",
    "plt.bar(data.loc[country].date[:d],data.loc[country].new_deaths[:d])\n",
    "plt.tick_params('x',labelrotation=270, labelsize=10)\n",
    "plt.title(str(country +\":  \"+'new deaths'), size=20)\n",
    "plt.show()"
   ]
  },
  {
   "cell_type": "code",
   "execution_count": 68,
   "metadata": {},
   "outputs": [],
   "source": [
    "from bokeh.models import ColumnDataSource, HoverTool, LabelSet\n",
    "from bokeh.io import show,output_file\n",
    "from bokeh.plotting import figure\n"
   ]
  },
  {
   "cell_type": "code",
   "execution_count": 69,
   "metadata": {},
   "outputs": [],
   "source": [
    "source=ColumnDataSource(last_data[last_data['total_deaths']>=50])\n",
    "plot=figure(plot_width=1800, plot_height=900, x_axis_type=\"log\",y_axis_type=\"log\")\n",
    "#plot.line(x='new_cases',y='new_deaths',source=source, line_width=5)\n",
    "plot.circle(x='total_cases',y='total_deaths',size='DpM',fill_color='blue',source=source,alpha=0.2)\n",
    "hover=HoverTool(tooltips=[('country','@country'),('total cases','@total_cases'),('total deaths','@total_deaths'),('new cases','@new_cases'),('new deaths','@new_deaths'),('%CFR','@CFR'),('Dead/1M','@DpM')])\n",
    "plot.add_tools(hover)\n",
    "labels = LabelSet(x='total_cases', y='total_deaths', text='country', level='glyph', source=source, render_mode='canvas')\n",
    "plot.add_layout(labels)\n",
    "plot.xaxis[0].axis_label = 'total cases'\n",
    "plot.yaxis[0].axis_label = 'total deaths'\n",
    "output_file=('COVID-19.html')\n",
    "show(plot)"
   ]
  },
  {
   "cell_type": "code",
   "execution_count": null,
   "metadata": {},
   "outputs": [],
   "source": []
  }
 ],
 "metadata": {
  "kernelspec": {
   "display_name": "Python 3",
   "language": "python",
   "name": "python3"
  },
  "language_info": {
   "codemirror_mode": {
    "name": "ipython",
    "version": 3
   },
   "file_extension": ".py",
   "mimetype": "text/x-python",
   "name": "python",
   "nbconvert_exporter": "python",
   "pygments_lexer": "ipython3",
   "version": "3.7.4"
  }
 },
 "nbformat": 4,
 "nbformat_minor": 2
}
